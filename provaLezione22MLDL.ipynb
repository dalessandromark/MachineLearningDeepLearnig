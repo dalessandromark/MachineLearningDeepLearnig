{
  "nbformat": 4,
  "nbformat_minor": 0,
  "metadata": {
    "colab": {
      "name": "provaLezione22MLDL.ipynb",
      "provenance": [],
      "toc_visible": true,
      "authorship_tag": "ABX9TyN7QZ9zFmILAWSY4PQcSnT+",
      "include_colab_link": true
    },
    "kernelspec": {
      "name": "python3",
      "display_name": "Python 3"
    },
    "language_info": {
      "name": "python"
    },
    "accelerator": "GPU"
  },
  "cells": [
    {
      "cell_type": "markdown",
      "metadata": {
        "id": "view-in-github",
        "colab_type": "text"
      },
      "source": [
        "<a href=\"https://colab.research.google.com/github/dalessandromark/MachineLearningDeepLearnig/blob/main/provaLezione22MLDL.ipynb\" target=\"_parent\"><img src=\"https://colab.research.google.com/assets/colab-badge.svg\" alt=\"Open In Colab\"/></a>"
      ]
    },
    {
      "cell_type": "code",
      "metadata": {
        "colab": {
          "base_uri": "https://localhost:8080/"
        },
        "id": "zr6I4Y8l0KjQ",
        "outputId": "580a33a8-0905-442d-aede-8fb74ae108de"
      },
      "source": [
        "!nvidia-smi"
      ],
      "execution_count": null,
      "outputs": [
        {
          "output_type": "stream",
          "text": [
            "Thu Apr  8 14:12:08 2021       \n",
            "+-----------------------------------------------------------------------------+\n",
            "| NVIDIA-SMI 460.67       Driver Version: 460.32.03    CUDA Version: 11.2     |\n",
            "|-------------------------------+----------------------+----------------------+\n",
            "| GPU  Name        Persistence-M| Bus-Id        Disp.A | Volatile Uncorr. ECC |\n",
            "| Fan  Temp  Perf  Pwr:Usage/Cap|         Memory-Usage | GPU-Util  Compute M. |\n",
            "|                               |                      |               MIG M. |\n",
            "|===============================+======================+======================|\n",
            "|   0  Tesla K80           Off  | 00000000:00:04.0 Off |                    0 |\n",
            "| N/A   51C    P8    29W / 149W |      0MiB / 11441MiB |      0%      Default |\n",
            "|                               |                      |                  N/A |\n",
            "+-------------------------------+----------------------+----------------------+\n",
            "                                                                               \n",
            "+-----------------------------------------------------------------------------+\n",
            "| Processes:                                                                  |\n",
            "|  GPU   GI   CI        PID   Type   Process name                  GPU Memory |\n",
            "|        ID   ID                                                   Usage      |\n",
            "|=============================================================================|\n",
            "|  No running processes found                                                 |\n",
            "+-----------------------------------------------------------------------------+\n"
          ],
          "name": "stdout"
        }
      ]
    },
    {
      "cell_type": "code",
      "metadata": {
        "id": "nOghdL451e6R"
      },
      "source": [
        "import torch"
      ],
      "execution_count": null,
      "outputs": []
    },
    {
      "cell_type": "code",
      "metadata": {
        "colab": {
          "base_uri": "https://localhost:8080/"
        },
        "id": "AWTGPIiS2qN3",
        "outputId": "a4d8b776-c6c1-43d5-ba40-78e39faecc77"
      },
      "source": [
        "t = torch.zeros((3,3), dtype=torch.float32)\n",
        "print(t)"
      ],
      "execution_count": null,
      "outputs": [
        {
          "output_type": "stream",
          "text": [
            "tensor([[0., 0., 0.],\n",
            "        [0., 0., 0.],\n",
            "        [0., 0., 0.]])\n"
          ],
          "name": "stdout"
        }
      ]
    },
    {
      "cell_type": "code",
      "metadata": {
        "id": "De__KU2v22oO"
      },
      "source": [
        "t1 = torch.rand((64,64,3), dtype=torch.float32)\n",
        "print(t1)"
      ],
      "execution_count": null,
      "outputs": []
    },
    {
      "cell_type": "code",
      "metadata": {
        "colab": {
          "base_uri": "https://localhost:8080/"
        },
        "id": "sqUQ7yEF3PM2",
        "outputId": "12e851ab-d660-4664-eb8c-c168cb06e4ea"
      },
      "source": [
        "t1.device"
      ],
      "execution_count": null,
      "outputs": [
        {
          "output_type": "execute_result",
          "data": {
            "text/plain": [
              "device(type='cpu')"
            ]
          },
          "metadata": {
            "tags": []
          },
          "execution_count": 12
        }
      ]
    },
    {
      "cell_type": "code",
      "metadata": {
        "colab": {
          "base_uri": "https://localhost:8080/"
        },
        "id": "PFhlyiLk3SJW",
        "outputId": "f2b42c84-b508-47ca-a513-0cdb9bf8927f"
      },
      "source": [
        "t1.size()"
      ],
      "execution_count": null,
      "outputs": [
        {
          "output_type": "execute_result",
          "data": {
            "text/plain": [
              "torch.Size([64, 64, 3])"
            ]
          },
          "metadata": {
            "tags": []
          },
          "execution_count": 14
        }
      ]
    },
    {
      "cell_type": "code",
      "metadata": {
        "colab": {
          "base_uri": "https://localhost:8080/"
        },
        "id": "tv-EHfpp3bfX",
        "outputId": "03f7dc73-be1b-486f-a4b4-245bad652c9b"
      },
      "source": [
        "t1.dtype"
      ],
      "execution_count": null,
      "outputs": [
        {
          "output_type": "execute_result",
          "data": {
            "text/plain": [
              "torch.float32"
            ]
          },
          "metadata": {
            "tags": []
          },
          "execution_count": 15
        }
      ]
    },
    {
      "cell_type": "code",
      "metadata": {
        "colab": {
          "base_uri": "https://localhost:8080/"
        },
        "id": "k8I7tX2L4SuX",
        "outputId": "2fd6c356-2e11-4c95-c37a-948044927bdb"
      },
      "source": [
        "!nvidia-smi"
      ],
      "execution_count": null,
      "outputs": [
        {
          "output_type": "stream",
          "text": [
            "Thu Apr  8 14:27:13 2021       \n",
            "+-----------------------------------------------------------------------------+\n",
            "| NVIDIA-SMI 460.67       Driver Version: 460.32.03    CUDA Version: 11.2     |\n",
            "|-------------------------------+----------------------+----------------------+\n",
            "| GPU  Name        Persistence-M| Bus-Id        Disp.A | Volatile Uncorr. ECC |\n",
            "| Fan  Temp  Perf  Pwr:Usage/Cap|         Memory-Usage | GPU-Util  Compute M. |\n",
            "|                               |                      |               MIG M. |\n",
            "|===============================+======================+======================|\n",
            "|   0  Tesla K80           Off  | 00000000:00:04.0 Off |                    0 |\n",
            "| N/A   68C    P0    73W / 149W |    437MiB / 11441MiB |      0%      Default |\n",
            "|                               |                      |                  N/A |\n",
            "+-------------------------------+----------------------+----------------------+\n",
            "                                                                               \n",
            "+-----------------------------------------------------------------------------+\n",
            "| Processes:                                                                  |\n",
            "|  GPU   GI   CI        PID   Type   Process name                  GPU Memory |\n",
            "|        ID   ID                                                   Usage      |\n",
            "|=============================================================================|\n",
            "+-----------------------------------------------------------------------------+\n"
          ],
          "name": "stdout"
        }
      ]
    },
    {
      "cell_type": "code",
      "metadata": {
        "colab": {
          "base_uri": "https://localhost:8080/"
        },
        "id": "8Wi_tV3U4quk",
        "outputId": "08d3faa0-7221-410e-c714-7c4d98f9b672"
      },
      "source": [
        "t1.size()"
      ],
      "execution_count": null,
      "outputs": [
        {
          "output_type": "execute_result",
          "data": {
            "text/plain": [
              "torch.Size([64, 64, 3])"
            ]
          },
          "metadata": {
            "tags": []
          },
          "execution_count": 26
        }
      ]
    },
    {
      "cell_type": "code",
      "metadata": {
        "id": "bzjLGhMQ4qWU"
      },
      "source": [
        "t2 = torch.ones((64,64,3), dtype=torch.float32)"
      ],
      "execution_count": null,
      "outputs": []
    },
    {
      "cell_type": "code",
      "metadata": {
        "colab": {
          "base_uri": "https://localhost:8080/"
        },
        "id": "vX3ViUKP4qHZ",
        "outputId": "ccee2c1c-e281-4fe0-84aa-6df839cf949b"
      },
      "source": [
        "t2.device"
      ],
      "execution_count": null,
      "outputs": [
        {
          "output_type": "execute_result",
          "data": {
            "text/plain": [
              "device(type='cpu')"
            ]
          },
          "metadata": {
            "tags": []
          },
          "execution_count": 29
        }
      ]
    },
    {
      "cell_type": "code",
      "metadata": {
        "id": "koRmyeT44qE4"
      },
      "source": [
        "t2 = t2.cuda()"
      ],
      "execution_count": null,
      "outputs": []
    },
    {
      "cell_type": "code",
      "metadata": {
        "id": "lT2zCbLc4qCQ"
      },
      "source": [
        "t3 = t1+t2"
      ],
      "execution_count": null,
      "outputs": []
    },
    {
      "cell_type": "code",
      "metadata": {
        "colab": {
          "base_uri": "https://localhost:8080/"
        },
        "id": "Nfb0MAHf4p-X",
        "outputId": "76ade7c2-d069-4760-92f4-bbdbdc8a840c"
      },
      "source": [
        "t3"
      ],
      "execution_count": null,
      "outputs": [
        {
          "output_type": "execute_result",
          "data": {
            "text/plain": [
              "tensor([[[1.9845, 1.0401, 1.8447],\n",
              "         [1.7477, 1.5642, 1.4768],\n",
              "         [1.7175, 1.9353, 1.5508],\n",
              "         ...,\n",
              "         [1.9280, 1.7690, 1.3150],\n",
              "         [1.6896, 1.9217, 1.7767],\n",
              "         [1.0039, 1.4656, 1.5122]],\n",
              "\n",
              "        [[1.4210, 1.6047, 1.9599],\n",
              "         [1.7542, 1.7640, 1.8667],\n",
              "         [1.3277, 1.3137, 1.4722],\n",
              "         ...,\n",
              "         [1.7939, 1.1037, 1.1986],\n",
              "         [1.8248, 1.9226, 1.6150],\n",
              "         [1.7292, 1.2545, 1.7880]],\n",
              "\n",
              "        [[1.6486, 1.1580, 1.3680],\n",
              "         [1.5210, 1.4810, 1.5804],\n",
              "         [1.5152, 1.2648, 1.3626],\n",
              "         ...,\n",
              "         [1.9081, 1.9661, 1.5694],\n",
              "         [1.9289, 1.9644, 1.9174],\n",
              "         [1.4079, 1.4293, 1.0845]],\n",
              "\n",
              "        ...,\n",
              "\n",
              "        [[1.0918, 1.6101, 1.5382],\n",
              "         [1.8656, 1.7885, 1.0840],\n",
              "         [1.2650, 1.7249, 1.8616],\n",
              "         ...,\n",
              "         [1.8862, 1.9462, 1.1115],\n",
              "         [1.2130, 1.0629, 1.6784],\n",
              "         [1.6132, 1.4004, 1.1730]],\n",
              "\n",
              "        [[1.4065, 1.2518, 1.8193],\n",
              "         [1.6936, 1.0684, 1.7475],\n",
              "         [1.9145, 1.2624, 1.3794],\n",
              "         ...,\n",
              "         [1.6225, 1.6205, 1.3413],\n",
              "         [1.2130, 1.2397, 1.8411],\n",
              "         [1.0638, 1.9110, 1.0490]],\n",
              "\n",
              "        [[1.1001, 1.5541, 1.9577],\n",
              "         [1.2809, 1.0280, 1.8491],\n",
              "         [1.1204, 1.9354, 1.1432],\n",
              "         ...,\n",
              "         [1.1473, 1.0344, 1.3435],\n",
              "         [1.9269, 1.0777, 1.2604],\n",
              "         [1.4777, 1.4066, 1.4138]]], device='cuda:0')"
            ]
          },
          "metadata": {
            "tags": []
          },
          "execution_count": 32
        }
      ]
    },
    {
      "cell_type": "code",
      "metadata": {
        "id": "y_aNadIS4U03"
      },
      "source": [
        "t1 = t1.cuda()"
      ],
      "execution_count": null,
      "outputs": []
    },
    {
      "cell_type": "code",
      "metadata": {
        "colab": {
          "base_uri": "https://localhost:8080/"
        },
        "id": "W4Nqjoba4ak8",
        "outputId": "ca7463a0-ffa9-4039-933b-45007e31de74"
      },
      "source": [
        "t1.device"
      ],
      "execution_count": null,
      "outputs": [
        {
          "output_type": "execute_result",
          "data": {
            "text/plain": [
              "device(type='cuda', index=0)"
            ]
          },
          "metadata": {
            "tags": []
          },
          "execution_count": 24
        }
      ]
    },
    {
      "cell_type": "code",
      "metadata": {
        "colab": {
          "base_uri": "https://localhost:8080/"
        },
        "id": "lXieft9-4c9d",
        "outputId": "ab0c9db0-6c55-413d-a5e5-eb04d2fb7855"
      },
      "source": [
        "!nvidia-smi"
      ],
      "execution_count": null,
      "outputs": [
        {
          "output_type": "stream",
          "text": [
            "Thu Apr  8 14:27:57 2021       \n",
            "+-----------------------------------------------------------------------------+\n",
            "| NVIDIA-SMI 460.67       Driver Version: 460.32.03    CUDA Version: 11.2     |\n",
            "|-------------------------------+----------------------+----------------------+\n",
            "| GPU  Name        Persistence-M| Bus-Id        Disp.A | Volatile Uncorr. ECC |\n",
            "| Fan  Temp  Perf  Pwr:Usage/Cap|         Memory-Usage | GPU-Util  Compute M. |\n",
            "|                               |                      |               MIG M. |\n",
            "|===============================+======================+======================|\n",
            "|   0  Tesla K80           Off  | 00000000:00:04.0 Off |                    0 |\n",
            "| N/A   70C    P0    73W / 149W |    437MiB / 11441MiB |      0%      Default |\n",
            "|                               |                      |                  N/A |\n",
            "+-------------------------------+----------------------+----------------------+\n",
            "                                                                               \n",
            "+-----------------------------------------------------------------------------+\n",
            "| Processes:                                                                  |\n",
            "|  GPU   GI   CI        PID   Type   Process name                  GPU Memory |\n",
            "|        ID   ID                                                   Usage      |\n",
            "|=============================================================================|\n",
            "+-----------------------------------------------------------------------------+\n"
          ],
          "name": "stdout"
        }
      ]
    },
    {
      "cell_type": "code",
      "metadata": {
        "colab": {
          "base_uri": "https://localhost:8080/"
        },
        "id": "GqAPRwiz53cM",
        "outputId": "ddb683dc-3c52-4fdc-e8d4-c91a63135d39"
      },
      "source": [
        "import numpy as np\n",
        "array = np.random.rand(3,3)\n",
        "print(array)\n",
        "print(np.shape(array))"
      ],
      "execution_count": null,
      "outputs": [
        {
          "output_type": "stream",
          "text": [
            "[[0.11368952 0.54856961 0.07211848]\n",
            " [0.6049571  0.21369458 0.1489597 ]\n",
            " [0.76346427 0.33905816 0.54636202]]\n",
            "(3, 3)\n"
          ],
          "name": "stdout"
        }
      ]
    },
    {
      "cell_type": "code",
      "metadata": {
        "colab": {
          "base_uri": "https://localhost:8080/"
        },
        "id": "sO6CNA6u53QL",
        "outputId": "1f064d25-3784-40f9-b435-9d1b65ac22f8"
      },
      "source": [
        "t = torch.from_numpy(array)\n",
        "print(t)"
      ],
      "execution_count": null,
      "outputs": [
        {
          "output_type": "stream",
          "text": [
            "tensor([[0.1137, 0.5486, 0.0721],\n",
            "        [0.6050, 0.2137, 0.1490],\n",
            "        [0.7635, 0.3391, 0.5464]], dtype=torch.float64)\n"
          ],
          "name": "stdout"
        }
      ]
    },
    {
      "cell_type": "code",
      "metadata": {
        "colab": {
          "base_uri": "https://localhost:8080/"
        },
        "id": "oLo2iDCt53Nk",
        "outputId": "d4cf22c5-b3b2-4a06-83e7-ea2db49340fb"
      },
      "source": [
        "t.device"
      ],
      "execution_count": null,
      "outputs": [
        {
          "output_type": "execute_result",
          "data": {
            "text/plain": [
              "device(type='cpu')"
            ]
          },
          "metadata": {
            "tags": []
          },
          "execution_count": 35
        }
      ]
    },
    {
      "cell_type": "code",
      "metadata": {
        "id": "Qkqf1fKW6Pyk"
      },
      "source": [
        "t = t.cuda()"
      ],
      "execution_count": null,
      "outputs": []
    },
    {
      "cell_type": "code",
      "metadata": {
        "colab": {
          "base_uri": "https://localhost:8080/"
        },
        "id": "iq0d-d3h6Vcp",
        "outputId": "6a3a745b-7d94-4eec-fa0d-c10e2cbc38de"
      },
      "source": [
        "t"
      ],
      "execution_count": null,
      "outputs": [
        {
          "output_type": "execute_result",
          "data": {
            "text/plain": [
              "tensor([[0.1137, 0.5486, 0.0721],\n",
              "        [0.6050, 0.2137, 0.1490],\n",
              "        [0.7635, 0.3391, 0.5464]], device='cuda:0', dtype=torch.float64)"
            ]
          },
          "metadata": {
            "tags": []
          },
          "execution_count": 37
        }
      ]
    }
  ]
}